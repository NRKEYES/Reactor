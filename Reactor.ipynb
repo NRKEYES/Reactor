{
 "cells": [
  {
   "cell_type": "code",
   "execution_count": 20,
   "metadata": {
    "collapsed": false
   },
   "outputs": [],
   "source": [
    "import cclib\n",
    "\n",
    "from Reaction import Reaction\n",
    "myReaction = Reaction('test.json')\n"
   ]
  },
  {
   "cell_type": "code",
   "execution_count": 19,
   "metadata": {
    "collapsed": false
   },
   "outputs": [
    {
     "name": "stdout",
     "output_type": "stream",
     "text": [
      "--------------------------------------------------------------------\n",
      "Key: 4.0\n",
      "Comes from:\n",
      "3.0\n",
      "Made up of: \n",
      "    Name: Well 2 5\n",
      "    Charge: 1\n",
      "    Multiplicity: 7\n",
      "⚛  Mn  -0.05117326866123      0.01227985455494     -0.11681113273215\n",
      "⚛  O   1.66032991264121      0.00181945043235     -0.28000563034406\n",
      "⚛  H   -0.36488816264123      0.00432687499073     -1.66151260890910\n",
      "⚛  H   2.20652285246125     -0.00531848777802     -1.08387603721469\n",
      "Goes to:\n",
      "5.0\n",
      "Type: Well\n",
      "--------------------------------------------------------------------\n",
      "Key: 1.1\n",
      "Comes from:\n",
      "Made up of: \n",
      "    Name: 7MnO+\n",
      "    Charge: 1\n",
      "    Multiplicity: 7\n",
      "⚛    Mn  0.00080155127766      0.00000000000000      0.00000000000000\n",
      "⚛    O   1.72929768733234      0.00000000000000      0.00000000000000\n",
      "    Name: H2\n",
      "    Charge: 0\n",
      "    Multiplicity: 1\n",
      "⚛   H      0.492993    0.000000    0.000000\n",
      "⚛   H      1.237107    0.000000    0.000000\n",
      "Goes to:\n",
      "2.1\n",
      "Type: Well\n",
      "--------------------------------------------------------------------\n",
      "Key: 3.0\n",
      "Comes from:\n",
      "2.0\n",
      "Made up of: \n",
      "    Name: TS 1 5\n",
      "    Charge: 1\n",
      "    Multiplicity: 7\n",
      "⚛  Mn  0.22717019224228     -0.04391213921966      0.07809053482166\n",
      "⚛  O   1.84670116584359      0.09377128010905     -0.23683625108192\n",
      "⚛  H   1.63087363102259     -0.95058583062279      0.75340668780518\n",
      "⚛  H   0.90129155809154     -1.30286976716661      1.16096220295509\n",
      "Goes to:\n",
      "4.0\n",
      "Type: TS\n",
      "--------------------------------------------------------------------\n",
      "Key: 5.0\n",
      "Comes from:\n",
      "4.0\n",
      "Made up of: \n",
      "    Name: TS 2 5\n",
      "    Charge: 1\n",
      "    Multiplicity: 7\n",
      "⚛  Mn  0.10843338934580      0.07443912488937      0.14841897932636\n",
      "⚛  O   1.84313902559023     -0.32158487547785     -0.18923618229676\n",
      "⚛  H   2.65792788859478     -0.24542903511342      0.33184824093930\n",
      "⚛  H   1.07587293816919     -1.08507108599810      0.85266344113110\n",
      "Goes to:\n",
      "6.0\n",
      "Type: TS\n",
      "--------------------------------------------------------------------\n",
      "Key: 5.1\n",
      "Comes from:\n",
      "4.1\n",
      "Made up of: \n",
      "    Name: TS 2 7\n",
      "    Charge: 1\n",
      "    Multiplicity: 7\n",
      "⚛  Mn  1.62450758489451      0.37924765642300     -1.52323854950237\n",
      "⚛  O   2.28572965574902     -0.07700524742860      0.48442974871179\n",
      "⚛  H   1.84190274846254      0.04665348849617      1.35196336345233\n",
      "⚛  H   0.47160501089393     -0.80967989749057     -1.50615956266175\n",
      "Goes to:\n",
      "6.1\n",
      "Type: TS\n",
      "--------------------------------------------------------------------\n",
      "Key: 4.1\n",
      "Comes from:\n",
      "3.1\n",
      "Made up of: \n",
      "    Name: Well 2 7\n",
      "    Charge: 1\n",
      "    Multiplicity: 7\n",
      "⚛  Mn  1.29114697801026     -0.59811546762774     -0.28085910429412\n",
      "⚛  O   2.00759579453219     -0.41108045365754      1.33110540201007\n",
      "⚛  H   0.18885926902297     -0.58092226884607     -1.95495124834017\n",
      "⚛  H   2.81830239473457     -0.71396854836864      1.76268855032421\n",
      "Goes to:\n",
      "5.1\n",
      "Type: Well\n",
      "--------------------------------------------------------------------\n",
      "Key: 7.2\n",
      "Comes from:\n",
      "6.0\n",
      "Made up of: \n",
      "    Name: 5MnOH+\n",
      "    Charge: 1\n",
      "    Multiplicity: 5\n",
      "⚛  Mn    -0.020553   -0.256157    0.000000\n",
      "⚛  O      1.523351    0.190746    0.000000\n",
      "⚛  H     -1.039282    0.982039    0.000000\n",
      "    Name: H\n",
      "    Charge: 0\n",
      "    Multiplicity: 2\n",
      "⚛   H      0.00000    0.000000    0.000000\n",
      "Goes to:\n",
      "Type: Well\n",
      "--------------------------------------------------------------------\n",
      "Key: 6.0\n",
      "Comes from:\n",
      "5.0\n",
      "Made up of: \n",
      "    Name: Well 3 5\n",
      "    Charge: 1\n",
      "    Multiplicity: 7\n",
      "⚛  Mn  0.09100746600911      0.01284464269490      0.00102562794126\n",
      "⚛  O   2.10903949944868     -0.09639305231309     -0.25754232214053\n",
      "⚛  H   2.66295031569892     -0.87533588382207     -0.09267708094319\n",
      "⚛  H   2.68125060704329      0.61991772194026     -0.57405117885754\n",
      "Goes to:\n",
      "7.0\n",
      "7.2\n",
      "Type: Well\n",
      "--------------------------------------------------------------------\n",
      "Key: 2.1\n",
      "Comes from:\n",
      "1.1\n",
      "Made up of: \n",
      "    Name: Well 1 7\n",
      "    Charge: 1\n",
      "    Multiplicity: 7\n",
      "⚛  Mn  1.24440795084125     -0.09182220881629     -0.53185138284370\n",
      "⚛  O   2.01365604631141      0.09094845379537      1.13449177718428\n",
      "⚛  H   0.48467218845261      0.08298222955359     -2.45546685784929\n",
      "⚛  H   0.29542595439473     -0.64272788313267     -2.29414862119130\n",
      "Goes to:\n",
      "2.1\n",
      "Type: Well\n",
      "--------------------------------------------------------------------\n",
      "Key: 1.0\n",
      "Comes from:\n",
      "Made up of: \n",
      "    Name: 5MnO+\n",
      "    Charge: 1\n",
      "    Multiplicity: 5\n",
      "⚛    Mn  0.00080155127766      0.00000000000000      0.00000000000000\n",
      "⚛    O   1.72929768733234      0.00000000000000      0.00000000000000\n",
      "    Name: H2\n",
      "    Charge: 0\n",
      "    Multiplicity: 1\n",
      "⚛   H      0.492993    0.000000    0.000000\n",
      "⚛   H      1.237107    0.000000    0.000000\n",
      "Goes to:\n",
      "2.0\n",
      "Type: Well\n",
      "--------------------------------------------------------------------\n",
      "Key: 7.0\n",
      "Comes from:\n",
      "6.0\n",
      "Made up of: \n",
      "    Name: 5Mn+\n",
      "    Charge: 1\n",
      "    Multiplicity: 5\n",
      "⚛    Mn  0.00080155127766      0.00000000000000      0.00000000000000\n",
      "    Name: H2O\n",
      "    Charge: 0\n",
      "    Multiplicity: 1\n",
      "⚛  O      0.110433    0.154827    0.000000\n",
      "⚛  H      1.073488    0.187417    0.000000\n",
      "⚛  H     -0.172274    1.076034    0.000000\n",
      "Goes to:\n",
      "Type: Well\n",
      "--------------------------------------------------------------------\n",
      "Key: 7.1\n",
      "Comes from:\n",
      "6.1\n",
      "Made up of: \n",
      "    Name: 7Mn+\n",
      "    Charge: 1\n",
      "    Multiplicity: 5\n",
      "⚛    Mn  0.00080155127766      0.00000000000000      0.00000000000000\n",
      "    Name: H2O\n",
      "    Charge: 0\n",
      "    Multiplicity: 1\n",
      "⚛  O      0.110433    0.154827    0.000000\n",
      "⚛  H      1.073488    0.187417    0.000000\n",
      "⚛  H     -0.172274    1.076034    0.000000\n",
      "Goes to:\n",
      "Type: Well\n",
      "--------------------------------------------------------------------\n",
      "Key: 2.0\n",
      "Comes from:\n",
      "1.0\n",
      "Made up of: \n",
      "    Name: Well 1 5\n",
      "    Charge: 1\n",
      "    Multiplicity: 5\n",
      "⚛  Mn     0.418226    0.040360    0.000000\n",
      "⚛  O      2.004812   -0.032901   -0.000000\n",
      "⚛  H     -1.606731    0.517146   -0.000000\n",
      "⚛  H     -1.641599   -0.249299   -0.000000\n",
      "Goes to:\n",
      "2.0\n",
      "Type: Well\n",
      "--------------------------------------------------------------------\n",
      "Key: 3.1\n",
      "Comes from:\n",
      "2.1\n",
      "Made up of: \n",
      "    Name: TS 1 7\n",
      "    Charge: 1\n",
      "    Multiplicity: 7\n",
      "⚛  Mn  0.66697257297355     -0.75836595501877     -1.07586886711311\n",
      "⚛  O   1.91824547422361      0.27452733313712     -0.19285498875356\n",
      "⚛  H   0.69311045558766     -1.04526745215398      1.61869491463763\n",
      "⚛  H   1.32770749721518     -0.67449092596438      1.40565094122904\n",
      "Goes to:\n",
      "4.1\n",
      "Type: TS\n",
      "--------------------------------------------------------------------\n",
      "Key: 6.1\n",
      "Comes from:\n",
      "5.1\n",
      "Made up of: \n",
      "    Name: Well 3 5\n",
      "    Charge: 1\n",
      "    Multiplicity: 7\n",
      "⚛  Mn  0.09100746600911      0.01284464269490      0.00102562794126\n",
      "⚛  O   2.10903949944868     -0.09639305231309     -0.25754232214053\n",
      "⚛  H   2.66295031569892     -0.87533588382207     -0.09267708094319\n",
      "⚛  H   2.68125060704329      0.61991772194026     -0.57405117885754\n",
      "Goes to:\n",
      "7.1\n",
      "7.3\n",
      "Type: Well\n"
     ]
    }
   ],
   "source": [
    "myReaction.reaction_print()"
   ]
  },
  {
   "cell_type": "code",
   "execution_count": null,
   "metadata": {
    "collapsed": false
   },
   "outputs": [],
   "source": []
  },
  {
   "cell_type": "code",
   "execution_count": 22,
   "metadata": {
    "collapsed": false
   },
   "outputs": [],
   "source": [
    "myOutput = cclib.ccopen(\"test.out\")"
   ]
  },
  {
   "cell_type": "code",
   "execution_count": 24,
   "metadata": {
    "collapsed": false
   },
   "outputs": [],
   "source": [
    "parsed = myOutput.parse()"
   ]
  },
  {
   "cell_type": "code",
   "execution_count": 26,
   "metadata": {
    "collapsed": false
   },
   "outputs": [
    {
     "data": {
      "text/plain": [
       "array([[[  8.02000000e-04,   0.00000000e+00,   0.00000000e+00],\n",
       "        [  1.72929800e+00,   0.00000000e+00,   0.00000000e+00]],\n",
       "\n",
       "       [[ -6.42000000e-04,   0.00000000e+00,   0.00000000e+00],\n",
       "        [  1.73074100e+00,   0.00000000e+00,   0.00000000e+00]],\n",
       "\n",
       "       [[ -1.10920000e-02,   0.00000000e+00,   0.00000000e+00],\n",
       "        [  1.74119100e+00,   0.00000000e+00,   0.00000000e+00]],\n",
       "\n",
       "       [[ -1.17500000e-02,   0.00000000e+00,   0.00000000e+00],\n",
       "        [  1.74184900e+00,   0.00000000e+00,   0.00000000e+00]],\n",
       "\n",
       "       [[ -1.17870000e-02,   0.00000000e+00,   0.00000000e+00],\n",
       "        [  1.74188600e+00,   0.00000000e+00,   0.00000000e+00]]])"
      ]
     },
     "execution_count": 26,
     "metadata": {},
     "output_type": "execute_result"
    }
   ],
   "source": [
    "parsed.atomcoords"
   ]
  },
  {
   "cell_type": "code",
   "execution_count": 30,
   "metadata": {
    "collapsed": false
   },
   "outputs": [
    {
     "data": {
      "text/plain": [
       "-33353.571671572303"
      ]
     },
     "execution_count": 30,
     "metadata": {},
     "output_type": "execute_result"
    }
   ],
   "source": [
    "parsed.scfenergies[-1]"
   ]
  },
  {
   "cell_type": "code",
   "execution_count": 31,
   "metadata": {
    "collapsed": false
   },
   "outputs": [
    {
     "data": {
      "text/plain": [
       "True"
      ]
     },
     "execution_count": 31,
     "metadata": {},
     "output_type": "execute_result"
    }
   ],
   "source": [
    "parsed.optdone"
   ]
  },
  {
   "cell_type": "code",
   "execution_count": 35,
   "metadata": {
    "collapsed": false
   },
   "outputs": [
    {
     "ename": "TypeError",
     "evalue": "'int' object is not callable",
     "output_type": "error",
     "traceback": [
      "\u001b[0;31m---------------------------------------------------------------------------\u001b[0m",
      "\u001b[0;31mTypeError\u001b[0m                                 Traceback (most recent call last)",
      "\u001b[0;32m<ipython-input-35-c2ffa2ec73cf>\u001b[0m in \u001b[0;36m<module>\u001b[0;34m()\u001b[0m\n\u001b[0;32m----> 1\u001b[0;31m \u001b[0mparsed\u001b[0m\u001b[0;34m.\u001b[0m\u001b[0mOPT_UNCONVERGED\u001b[0m\u001b[0;34m(\u001b[0m\u001b[0;34m)\u001b[0m\u001b[0;34m\u001b[0m\u001b[0m\n\u001b[0m",
      "\u001b[0;31mTypeError\u001b[0m: 'int' object is not callable"
     ]
    }
   ],
   "source": [
    "parsed."
   ]
  },
  {
   "cell_type": "code",
   "execution_count": null,
   "metadata": {
    "collapsed": true
   },
   "outputs": [],
   "source": []
  }
 ],
 "metadata": {
  "anaconda-cloud": {},
  "kernelspec": {
   "display_name": "Python [conda root]",
   "language": "python",
   "name": "conda-root-py"
  },
  "language_info": {
   "codemirror_mode": {
    "name": "ipython",
    "version": 3
   },
   "file_extension": ".py",
   "mimetype": "text/x-python",
   "name": "python",
   "nbconvert_exporter": "python",
   "pygments_lexer": "ipython3",
   "version": "3.5.2"
  }
 },
 "nbformat": 4,
 "nbformat_minor": 1
}
